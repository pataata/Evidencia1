{
  "nbformat": 4,
  "nbformat_minor": 0,
  "metadata": {
    "colab": {
      "provenance": []
    },
    "kernelspec": {
      "name": "python3",
      "display_name": "Python 3"
    },
    "language_info": {
      "name": "python"
    }
  },
  "cells": [
    {
      "cell_type": "markdown",
      "source": [
        "#**Evidencia 1. Análisis de similitud empleando Inteligencia Artificial: Detector de reutilización de texto**\n",
        "## Equipo:\n",
        "* Rubén Sánchez Mayén A01378379\n",
        "* Octavio Andrick Sánchez Perusquia A01378649\n",
        "* Joan Daniel Guerrero García A01378052"
      ],
      "metadata": {
        "id": "wV8WvWsyvuES"
      }
    },
    {
      "cell_type": "code",
      "execution_count": 1,
      "metadata": {
        "id": "QTCaG_2ivD5I"
      },
      "outputs": [],
      "source": [
        "from numpy import loadtxt\n",
        "import pandas as pd\n",
        "from tensorflow.keras.models import Sequential\n",
        "from tensorflow.keras.layers import Dense"
      ]
    },
    {
      "cell_type": "code",
      "source": [
        "#Cargar dataset\n",
        "dataset = loadtxt('dataset_reutilizacion_texto.csv', delimiter=',')"
      ],
      "metadata": {
        "id": "De31wThZv8pj"
      },
      "execution_count": 12,
      "outputs": []
    },
    {
      "cell_type": "code",
      "source": [
        "#Separar datos de entrenamiento y pruebas\n",
        "from sklearn.model_selection import train_test_split\n",
        "\n",
        "datos_entrenamiento, datos_pruebas = train_test_split(dataset, test_size=0.15, random_state=25)\n",
        "\n",
        "print(f\"Número de datos de entrenamiento: {len(datos_entrenamiento)}\")\n",
        "print(f\"Número de datos de pruebas: {len(datos_pruebas)}\")"
      ],
      "metadata": {
        "colab": {
          "base_uri": "https://localhost:8080/"
        },
        "id": "p7L5ium837jN",
        "outputId": "dbf3a61d-5ea1-498a-8f53-610d7d37a32e"
      },
      "execution_count": 22,
      "outputs": [
        {
          "output_type": "stream",
          "name": "stdout",
          "text": [
            "Número de datos de entrenamiento: 69\n",
            "Número de datos de pruebas: 13\n"
          ]
        }
      ]
    },
    {
      "cell_type": "code",
      "source": [
        "#Separar variable predicada\n",
        "x_entrenamiento = datos_entrenamiento[:,:3]\n",
        "y_entrenamiento = datos_entrenamiento[:,3]\n",
        "x_pruebas = datos_pruebas[:,:3]\n",
        "y_pruebas = datos_pruebas[:,3]"
      ],
      "metadata": {
        "id": "xaI6P-T-CN6x"
      },
      "execution_count": 23,
      "outputs": []
    },
    {
      "cell_type": "code",
      "source": [
        "model = Sequential()\n",
        "model.add(Dense(12, input_shape=(3,), activation='relu'))\n",
        "model.add(Dense(8, activation='relu'))\n",
        "model.add(Dense(1, activation='sigmoid'))"
      ],
      "metadata": {
        "id": "usoiPCVhydNj"
      },
      "execution_count": 72,
      "outputs": []
    },
    {
      "cell_type": "code",
      "source": [
        "model.compile(loss='binary_crossentropy', optimizer='adam', metrics=['accuracy'])"
      ],
      "metadata": {
        "id": "AUbh80iozUgH"
      },
      "execution_count": 73,
      "outputs": []
    },
    {
      "cell_type": "code",
      "source": [
        "model.fit(x_entrenamiento, y_entrenamiento, epochs=10, batch_size=4)"
      ],
      "metadata": {
        "colab": {
          "base_uri": "https://localhost:8080/"
        },
        "id": "Nw_Lud9B03vU",
        "outputId": "19aa5596-f9a9-4cb8-85b7-32829d054d5a"
      },
      "execution_count": 85,
      "outputs": [
        {
          "output_type": "stream",
          "name": "stdout",
          "text": [
            "Epoch 1/10\n",
            "18/18 [==============================] - 0s 2ms/step - loss: 0.5943 - accuracy: 0.7536\n",
            "Epoch 2/10\n",
            "18/18 [==============================] - 0s 2ms/step - loss: 0.5942 - accuracy: 0.7536\n",
            "Epoch 3/10\n",
            "18/18 [==============================] - 0s 2ms/step - loss: 0.5933 - accuracy: 0.7536\n",
            "Epoch 4/10\n",
            "18/18 [==============================] - 0s 2ms/step - loss: 0.5933 - accuracy: 0.7536\n",
            "Epoch 5/10\n",
            "18/18 [==============================] - 0s 2ms/step - loss: 0.5927 - accuracy: 0.7536\n",
            "Epoch 6/10\n",
            "18/18 [==============================] - 0s 2ms/step - loss: 0.5916 - accuracy: 0.7536\n",
            "Epoch 7/10\n",
            "18/18 [==============================] - 0s 2ms/step - loss: 0.5918 - accuracy: 0.7536\n",
            "Epoch 8/10\n",
            "18/18 [==============================] - 0s 2ms/step - loss: 0.5905 - accuracy: 0.7536\n",
            "Epoch 9/10\n",
            "18/18 [==============================] - 0s 2ms/step - loss: 0.5898 - accuracy: 0.7391\n",
            "Epoch 10/10\n",
            "18/18 [==============================] - 0s 3ms/step - loss: 0.5896 - accuracy: 0.7391\n"
          ]
        },
        {
          "output_type": "execute_result",
          "data": {
            "text/plain": [
              "<keras.callbacks.History at 0x7f68843651b0>"
            ]
          },
          "metadata": {},
          "execution_count": 85
        }
      ]
    },
    {
      "cell_type": "code",
      "source": [
        "#Evaular modelo\n",
        "_, accuracy = model.evaluate(x_pruebas, y_pruebas)\n",
        "print('Accuracy: %.2f' % (accuracy*100))"
      ],
      "metadata": {
        "colab": {
          "base_uri": "https://localhost:8080/"
        },
        "id": "e67rfMfO1gRY",
        "outputId": "a7da4e9d-5953-421e-c177-c1452e43a855"
      },
      "execution_count": 97,
      "outputs": [
        {
          "output_type": "stream",
          "name": "stdout",
          "text": [
            "1/1 [==============================] - 0s 30ms/step - loss: 0.4757 - accuracy: 0.9231\n",
            "Accuracy: 92.31\n"
          ]
        }
      ]
    },
    {
      "cell_type": "code",
      "source": [
        "#Algunas predicciones de ejemplo\n",
        "predictions = (model.predict(x_pruebas))\n",
        "for i in range(10):\n",
        "  print('%s => %s (expected %d)' % (x_pruebas[i].tolist(), round(predictions[i][0]), y_pruebas[i]))"
      ],
      "metadata": {
        "colab": {
          "base_uri": "https://localhost:8080/"
        },
        "id": "2EbFXHvZ2lrE",
        "outputId": "099af1ad-4dd5-4cef-de9e-fdf91a0c7c92"
      },
      "execution_count": 98,
      "outputs": [
        {
          "output_type": "stream",
          "name": "stdout",
          "text": [
            "1/1 [==============================] - 0s 22ms/step\n",
            "[0.2677042411256416, 0.09852967413281138, 0.02616621825098168] => 0 (expected 0)\n",
            "[0.59419430136341, 0.4925766094967005, 0.47619047619047694] => 1 (expected 1)\n",
            "[0.29177848744088203, 0.06136734330875301, 0.021016277499709354] => 0 (expected 0)\n",
            "[0.4949399496798402, 0.3910371502940005, 0.3376872344663547] => 1 (expected 1)\n",
            "[0.24534987303147354, 0.05490357131894845, 0.019121909540392504] => 0 (expected 0)\n",
            "[0.26660538511543436, 0.08, 0.0251562376591058] => 0 (expected 0)\n",
            "[0.5070478415948734, 0.30613648917505576, 0.18123584150292726] => 1 (expected 1)\n",
            "[0.2439836117813934, 0.048492982300807105, 0.023984194826439736] => 0 (expected 1)\n",
            "[0.1818645770272399, 0.0368456777319719, 0.010415960313100294] => 0 (expected 0)\n",
            "[0.27872598020817996, 0.0877058019307029, 0.021652326748721033] => 0 (expected 0)\n"
          ]
        }
      ]
    },
    {
      "cell_type": "code",
      "source": [
        "model.save('detector_texto_reutilizado_e1.h5')"
      ],
      "metadata": {
        "id": "3pwUk0zHGOHQ"
      },
      "execution_count": 96,
      "outputs": []
    }
  ]
}