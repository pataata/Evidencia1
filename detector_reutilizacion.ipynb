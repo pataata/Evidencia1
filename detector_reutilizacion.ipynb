{
  "nbformat": 4,
  "nbformat_minor": 0,
  "metadata": {
    "colab": {
      "provenance": [],
      "gpuType": "T4"
    },
    "kernelspec": {
      "name": "python3",
      "display_name": "Python 3"
    },
    "language_info": {
      "name": "python"
    },
    "accelerator": "GPU"
  },
  "cells": [
    {
      "cell_type": "markdown",
      "source": [
        "#**Evidencia 1. Análisis de similitud empleando Inteligencia Artificial: Detector de reutilización de texto**\n",
        "## Equipo:\n",
        "* Rubén Sánchez Mayén A01378379\n",
        "* Octavio Andrick Sánchez Perusquia A01378649\n",
        "* Joan Daniel Guerrero García A01378052"
      ],
      "metadata": {
        "id": "wV8WvWsyvuES"
      }
    },
    {
      "cell_type": "code",
      "execution_count": 3,
      "metadata": {
        "id": "QTCaG_2ivD5I"
      },
      "outputs": [],
      "source": [
        "from numpy import loadtxt\n",
        "import pandas as pd\n",
        "from tensorflow.keras.models import Sequential\n",
        "from tensorflow.keras.layers import Dense"
      ]
    },
    {
      "cell_type": "code",
      "source": [
        "#Cargar dataset\n",
        "dataset = loadtxt('dataset_reutilizacion_texto.csv', delimiter=',')"
      ],
      "metadata": {
        "id": "De31wThZv8pj"
      },
      "execution_count": 4,
      "outputs": []
    },
    {
      "cell_type": "code",
      "source": [
        "#Separar datos de entrenamiento y pruebas\n",
        "from sklearn.model_selection import train_test_split\n",
        "\n",
        "datos_entrenamiento, datos_pruebas = train_test_split(dataset, test_size=0.15, random_state=25)\n",
        "\n",
        "print(f\"Número de datos de entrenamiento: {len(datos_entrenamiento)}\")\n",
        "print(f\"Número de datos de pruebas: {len(datos_pruebas)}\")"
      ],
      "metadata": {
        "colab": {
          "base_uri": "https://localhost:8080/"
        },
        "id": "e67rfMfO1gRY",
        "outputId": "80f4c288-c619-4e31-bd3e-61e4803117b5"
      },
      "execution_count": 5,
      "outputs": [
        {
          "output_type": "stream",
          "name": "stdout",
          "text": [
            "Número de datos de entrenamiento: 69\n",
            "Número de datos de pruebas: 13\n"
          ]
        }
      ]
    },
    {
      "cell_type": "code",
      "source": [
        "#Separar variable predicada\n",
        "x_entrenamiento = datos_entrenamiento[:,:3]\n",
        "y_entrenamiento = datos_entrenamiento[:,3]\n",
        "x_pruebas = datos_pruebas[:,:3]\n",
        "y_pruebas = datos_pruebas[:,3]"
      ],
      "metadata": {
        "id": "3pwUk0zHGOHQ"
      },
      "execution_count": 6,
      "outputs": []
    },
    {
      "cell_type": "code",
      "source": [
        "model = Sequential()\n",
        "model.add(Dense(12, input_shape=(3,), activation='relu'))\n",
        "model.add(Dense(8, activation='relu'))\n",
        "model.add(Dense(1, activation='sigmoid'))"
      ],
      "metadata": {
        "id": "HHGHt-C1kIpY"
      },
      "execution_count": 7,
      "outputs": []
    },
    {
      "cell_type": "code",
      "source": [
        "model.compile(loss='binary_crossentropy', optimizer='adam', metrics=['accuracy'])"
      ],
      "metadata": {
        "id": "AUbh80iozUgH"
      },
      "execution_count": 8,
      "outputs": []
    },
    {
      "cell_type": "code",
      "source": [
        "history = model.fit(x_entrenamiento, y_entrenamiento, epochs=25, batch_size=4)"
      ],
      "metadata": {
        "colab": {
          "base_uri": "https://localhost:8080/"
        },
        "outputId": "242fc8aa-bbff-4392-d9b8-2b01c8c26dff",
        "id": "3e5TObyZ9--m"
      },
      "execution_count": 9,
      "outputs": [
        {
          "output_type": "stream",
          "name": "stdout",
          "text": [
            "Epoch 1/25\n",
            "18/18 [==============================] - 6s 6ms/step - loss: 0.6905 - accuracy: 0.5797\n",
            "Epoch 2/25\n",
            "18/18 [==============================] - 0s 5ms/step - loss: 0.6862 - accuracy: 0.6812\n",
            "Epoch 3/25\n",
            "18/18 [==============================] - 0s 5ms/step - loss: 0.6824 - accuracy: 0.6667\n",
            "Epoch 4/25\n",
            "18/18 [==============================] - 0s 5ms/step - loss: 0.6795 - accuracy: 0.6667\n",
            "Epoch 5/25\n",
            "18/18 [==============================] - 0s 6ms/step - loss: 0.6770 - accuracy: 0.6667\n",
            "Epoch 6/25\n",
            "18/18 [==============================] - 0s 10ms/step - loss: 0.6747 - accuracy: 0.6667\n",
            "Epoch 7/25\n",
            "18/18 [==============================] - 0s 12ms/step - loss: 0.6727 - accuracy: 0.6812\n",
            "Epoch 8/25\n",
            "18/18 [==============================] - 0s 12ms/step - loss: 0.6699 - accuracy: 0.6667\n",
            "Epoch 9/25\n",
            "18/18 [==============================] - 0s 8ms/step - loss: 0.6672 - accuracy: 0.6667\n",
            "Epoch 10/25\n",
            "18/18 [==============================] - 0s 6ms/step - loss: 0.6653 - accuracy: 0.6667\n",
            "Epoch 11/25\n",
            "18/18 [==============================] - 0s 5ms/step - loss: 0.6623 - accuracy: 0.6667\n",
            "Epoch 12/25\n",
            "18/18 [==============================] - 0s 5ms/step - loss: 0.6592 - accuracy: 0.6667\n",
            "Epoch 13/25\n",
            "18/18 [==============================] - 0s 5ms/step - loss: 0.6567 - accuracy: 0.6667\n",
            "Epoch 14/25\n",
            "18/18 [==============================] - 0s 5ms/step - loss: 0.6528 - accuracy: 0.6812\n",
            "Epoch 15/25\n",
            "18/18 [==============================] - 0s 5ms/step - loss: 0.6502 - accuracy: 0.6812\n",
            "Epoch 16/25\n",
            "18/18 [==============================] - 0s 5ms/step - loss: 0.6461 - accuracy: 0.6812\n",
            "Epoch 17/25\n",
            "18/18 [==============================] - 0s 5ms/step - loss: 0.6427 - accuracy: 0.6812\n",
            "Epoch 18/25\n",
            "18/18 [==============================] - 0s 5ms/step - loss: 0.6394 - accuracy: 0.6957\n",
            "Epoch 19/25\n",
            "18/18 [==============================] - 0s 6ms/step - loss: 0.6357 - accuracy: 0.7101\n",
            "Epoch 20/25\n",
            "18/18 [==============================] - 0s 5ms/step - loss: 0.6325 - accuracy: 0.7246\n",
            "Epoch 21/25\n",
            "18/18 [==============================] - 0s 4ms/step - loss: 0.6277 - accuracy: 0.7246\n",
            "Epoch 22/25\n",
            "18/18 [==============================] - 0s 4ms/step - loss: 0.6254 - accuracy: 0.7246\n",
            "Epoch 23/25\n",
            "18/18 [==============================] - 0s 4ms/step - loss: 0.6216 - accuracy: 0.7246\n",
            "Epoch 24/25\n",
            "18/18 [==============================] - 0s 4ms/step - loss: 0.6189 - accuracy: 0.7246\n",
            "Epoch 25/25\n",
            "18/18 [==============================] - 0s 4ms/step - loss: 0.6156 - accuracy: 0.7246\n"
          ]
        }
      ]
    },
    {
      "cell_type": "code",
      "source": [
        "#Evaular modelo\n",
        "_, accuracy = model.evaluate(x_pruebas, y_pruebas)\n",
        "print('Accuracy: %.2f' % (accuracy*100))"
      ],
      "metadata": {
        "colab": {
          "base_uri": "https://localhost:8080/"
        },
        "outputId": "a0fc712f-df73-4c9b-c80c-677fbd63ba39",
        "id": "wMkhNumP9--n"
      },
      "execution_count": 10,
      "outputs": [
        {
          "output_type": "stream",
          "name": "stdout",
          "text": [
            "1/1 [==============================] - 0s 140ms/step - loss: 0.5352 - accuracy: 0.9231\n",
            "Accuracy: 92.31\n"
          ]
        }
      ]
    },
    {
      "cell_type": "code",
      "source": [
        "#Algunas predicciones de ejemplo\n",
        "predictions = (model.predict(x_pruebas))\n",
        "for i in range(10):\n",
        "  print('%s => %s (expected %d)' % (x_pruebas[i].tolist(), round(predictions[i][0]), y_pruebas[i]))"
      ],
      "metadata": {
        "colab": {
          "base_uri": "https://localhost:8080/"
        },
        "id": "2EbFXHvZ2lrE",
        "outputId": "d4f0337f-abf3-4af0-9b81-f806f5d8bae8"
      },
      "execution_count": 11,
      "outputs": [
        {
          "output_type": "stream",
          "name": "stdout",
          "text": [
            "1/1 [==============================] - 0s 70ms/step\n",
            "[0.2677042411256416, 0.09852967413281138, 0.02616621825098168] => 0 (expected 0)\n",
            "[0.59419430136341, 0.4925766094967005, 0.47619047619047694] => 1 (expected 1)\n",
            "[0.29177848744088203, 0.06136734330875301, 0.021016277499709354] => 0 (expected 0)\n",
            "[0.4949399496798402, 0.3910371502940005, 0.3376872344663547] => 1 (expected 1)\n",
            "[0.24534987303147354, 0.05490357131894845, 0.019121909540392504] => 0 (expected 0)\n",
            "[0.26660538511543436, 0.08, 0.0251562376591058] => 0 (expected 0)\n",
            "[0.5070478415948734, 0.30613648917505576, 0.18123584150292726] => 1 (expected 1)\n",
            "[0.2439836117813934, 0.048492982300807105, 0.023984194826439736] => 0 (expected 1)\n",
            "[0.1818645770272399, 0.0368456777319719, 0.010415960313100294] => 0 (expected 0)\n",
            "[0.27872598020817996, 0.0877058019307029, 0.021652326748721033] => 0 (expected 0)\n"
          ]
        }
      ]
    },
    {
      "cell_type": "code",
      "source": [
        "model.save('detector_texto_reutilizado_e1.h5')"
      ],
      "metadata": {
        "id": "_Jr6D0k7-fxu"
      },
      "execution_count": 12,
      "outputs": []
    },
    {
      "cell_type": "code",
      "source": [
        "import matplotlib.pyplot as plt\n",
        "\n",
        "plt.plot(history.history['accuracy'])\n",
        "plt.title('model accuracy')\n",
        "plt.ylabel('accuracy')\n",
        "plt.xlabel('epoch')\n",
        "plt.show()"
      ],
      "metadata": {
        "colab": {
          "base_uri": "https://localhost:8080/",
          "height": 472
        },
        "id": "7gHT45GBreSw",
        "outputId": "da6c8103-6644-418b-99a3-00b8add43e1e"
      },
      "execution_count": 14,
      "outputs": [
        {
          "output_type": "display_data",
          "data": {
            "text/plain": [
              "<Figure size 640x480 with 1 Axes>"
            ],
            "image/png": "[encoded data removed]"
          },
          "metadata": {}
        }
      ]
    },
    {
      "cell_type": "code",
      "source": [
        "import sklearn.metrics as metrics\n",
        "\n",
        "y_probas = model.predict(x_pruebas).flatten()\n",
        "fpr, tpr, threshold = metrics.roc_curve(y_pruebas, y_probas)\n",
        "roc_auc = metrics.auc(fpr, tpr)\n",
        "\n",
        "plt.title('ROC')\n",
        "plt.plot(fpr, tpr, 'b', label = 'AUC = %0.2f' % roc_auc)\n",
        "plt.legend(loc = 'lower right')\n",
        "plt.plot([0, 1], [0, 1],'r--')\n",
        "plt.xlim([0, 1])\n",
        "plt.ylim([0, 1])\n",
        "plt.ylabel('True Positive Rate')\n",
        "plt.xlabel('False Positive Rate')\n",
        "plt.show()"
      ],
      "metadata": {
        "id": "t0ToTdSv-lXm",
        "colab": {
          "base_uri": "https://localhost:8080/",
          "height": 490
        },
        "outputId": "08b70bef-e991-420d-cb30-c6186dfb6bb4"
      },
      "execution_count": 15,
      "outputs": [
        {
          "output_type": "stream",
          "name": "stdout",
          "text": [
            "1/1 [==============================] - 0s 18ms/step\n"
          ]
        },
        {
          "output_type": "display_data",
          "data": {
            "text/plain": [
              "<Figure size 640x480 with 1 Axes>"
            ],
            "image/png": "[encoded data removed]"
          },
          "metadata": {}
        }
      ]
    },
    {
      "cell_type": "code",
      "source": [],
      "metadata": {
        "id": "SzY7pMQDQ-d4"
      },
      "execution_count": 15,
      "outputs": []
    }
  ]
}